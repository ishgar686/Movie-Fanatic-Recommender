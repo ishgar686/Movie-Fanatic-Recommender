{
 "cells": [
  {
   "cell_type": "code",
   "execution_count": 2,
   "id": "7a03c649-eb2d-40bb-81ce-9a4f1b92bf17",
   "metadata": {},
   "outputs": [],
   "source": [
    "import numpy as np\n",
    "import pandas as pd\n",
    "import matplotlib.pyplot as plt\n",
    "import os\n",
    "import ast\n",
    "import nltk\n",
    "from nltk.stem import PorterStemmer\n",
    "from sklearn.feature_extraction.text import CountVectorizer\n",
    "from sklearn.metrics.pairwise import cosine_similarity\n",
    "import pickle"
   ]
  },
  {
   "cell_type": "code",
   "execution_count": 3,
   "id": "1847d49d-d206-4de2-9c52-4e4f00b73360",
   "metadata": {},
   "outputs": [],
   "source": [
    "movies = pd.read_csv(\"data/tmdb_5000_movies.csv\")\n",
    "credits = pd.read_csv(\"data/tmdb_5000_credits.csv\")"
   ]
  },
  {
   "cell_type": "code",
   "execution_count": 4,
   "id": "440aa527-8072-4a96-a4e0-cfb2ae01ccf3",
   "metadata": {},
   "outputs": [],
   "source": [
    "movies = movies.merge(credits, on = \"title\")"
   ]
  },
  {
   "cell_type": "code",
   "execution_count": 5,
   "id": "b6a9722c-a7f9-4b57-a98c-5716366257fb",
   "metadata": {},
   "outputs": [],
   "source": [
    "movies = movies[[\"movie_id\", \"title\", \"overview\", \"genres\", \"keywords\", \"cast\", \"crew\"]]"
   ]
  },
  {
   "cell_type": "code",
   "execution_count": 6,
   "id": "a3d50a3d-7178-44e1-9fb1-780ae62bdc12",
   "metadata": {},
   "outputs": [
    {
     "data": {
      "text/plain": [
       "<bound method DataFrame.sum of       movie_id  title  overview  genres  keywords   cast   crew\n",
       "0        False  False     False   False     False  False  False\n",
       "1        False  False     False   False     False  False  False\n",
       "2        False  False     False   False     False  False  False\n",
       "3        False  False     False   False     False  False  False\n",
       "4        False  False     False   False     False  False  False\n",
       "...        ...    ...       ...     ...       ...    ...    ...\n",
       "4804     False  False     False   False     False  False  False\n",
       "4805     False  False     False   False     False  False  False\n",
       "4806     False  False     False   False     False  False  False\n",
       "4807     False  False     False   False     False  False  False\n",
       "4808     False  False     False   False     False  False  False\n",
       "\n",
       "[4809 rows x 7 columns]>"
      ]
     },
     "execution_count": 6,
     "metadata": {},
     "output_type": "execute_result"
    }
   ],
   "source": [
    "movies.isnull().sum"
   ]
  },
  {
   "cell_type": "code",
   "execution_count": 7,
   "id": "8ec1afc1-598e-452f-8353-2dd012bb891e",
   "metadata": {},
   "outputs": [],
   "source": [
    "movies.dropna(inplace=True)"
   ]
  },
  {
   "cell_type": "code",
   "execution_count": 8,
   "id": "9fd98307-a5b3-4fdd-9786-01581a7c1897",
   "metadata": {},
   "outputs": [],
   "source": [
    "def convert(text):\n",
    "    result = []\n",
    "    for i in ast.literal_eval(text):\n",
    "        result.append(i[\"name\"])\n",
    "    return result"
   ]
  },
  {
   "cell_type": "code",
   "execution_count": 9,
   "id": "89124fcd-137a-4a0e-9b1a-e96558b4e304",
   "metadata": {},
   "outputs": [],
   "source": [
    "movies[\"genres\"] = movies[\"genres\"].apply(convert)"
   ]
  },
  {
   "cell_type": "code",
   "execution_count": 10,
   "id": "46bff262-2a2e-4c05-b4b2-6fc132991df8",
   "metadata": {},
   "outputs": [],
   "source": [
    "movies[\"keywords\"] = movies[\"keywords\"].apply(convert)"
   ]
  },
  {
   "cell_type": "code",
   "execution_count": 11,
   "id": "30d3d048-5b9c-479b-a5f5-d32a5822878a",
   "metadata": {},
   "outputs": [],
   "source": [
    "def convert_cast(text):\n",
    "    result = []\n",
    "    counter = 0\n",
    "    for i in ast.literal_eval(text):\n",
    "        if counter<5:\n",
    "            result.append(i[\"name\"])\n",
    "        counter+= 1\n",
    "    return result"
   ]
  },
  {
   "cell_type": "code",
   "execution_count": 12,
   "id": "49c7fd6e-1120-4463-8b3b-f82c89d7815c",
   "metadata": {},
   "outputs": [],
   "source": [
    "movies[\"cast\"] = movies[\"cast\"].apply(convert_cast)"
   ]
  },
  {
   "cell_type": "code",
   "execution_count": 13,
   "id": "d21f48eb-91f9-453b-9a1d-40a06eb1f08f",
   "metadata": {},
   "outputs": [],
   "source": [
    "def convert_crew(text):\n",
    "    result = []\n",
    "    for i in ast.literal_eval(text):\n",
    "        if i[\"job\"] == \"Director\":\n",
    "            result.append(i[\"name\"])\n",
    "            break\n",
    "    return result"
   ]
  },
  {
   "cell_type": "code",
   "execution_count": 14,
   "id": "d8ca3480-5405-4588-a33b-b751c0cab7f0",
   "metadata": {},
   "outputs": [],
   "source": [
    "movies[\"crew\"] = movies[\"crew\"].apply(convert_crew)"
   ]
  },
  {
   "cell_type": "code",
   "execution_count": 15,
   "id": "183989aa-b7fe-4512-8d9c-2c83e1b4b0e0",
   "metadata": {},
   "outputs": [],
   "source": [
    "movies[\"overview\"] = movies[\"overview\"].apply(lambda x:x.split())"
   ]
  },
  {
   "cell_type": "code",
   "execution_count": 16,
   "id": "ff1b5667-aa54-43a1-a970-c45f0cc3a968",
   "metadata": {},
   "outputs": [],
   "source": [
    "def remove_space(word):\n",
    "    result = []\n",
    "    for i in word:\n",
    "        result.append(i.replace(\" \", \"\"))\n",
    "    return result"
   ]
  },
  {
   "cell_type": "code",
   "execution_count": null,
   "id": "878d39d7-ad1c-4c60-8275-9519de17c73c",
   "metadata": {},
   "outputs": [],
   "source": [
    "movies[\"crew\"] = movies[\"crew\"].apply(remove_space)\n",
    "movies[\"cast\"] = movies[\"cast\"].apply(remove_space)\n",
    "movies[\"genres\"] = movies[\"genres\"].apply(remove_space)\n",
    "movies[\"keywords\"] = movies[\"keywords\"].apply(remove_space)"
   ]
  },
  {
   "cell_type": "code",
   "execution_count": 18,
   "id": "e1c37cba-a89f-437a-a8e9-d5593254d1ba",
   "metadata": {},
   "outputs": [],
   "source": [
    "movies[\"tags\"] = movies[\"overview\"] + movies[\"genres\"] + movies[\"keywords\"] + movies[\"cast\"] + movies[\"crew\"]"
   ]
  },
  {
   "cell_type": "code",
   "execution_count": 19,
   "id": "afe223b3-57e0-459b-b7cd-2b7ea7c15b76",
   "metadata": {},
   "outputs": [],
   "source": [
    "new_dataframe = movies[[\"movie_id\", \"title\", \"tags\"]]"
   ]
  },
  {
   "cell_type": "code",
   "execution_count": 59,
   "id": "1c3bbb12-4510-4535-8970-142864e21398",
   "metadata": {},
   "outputs": [],
   "source": [
    "new_dataframe.loc[:, \"tags\"] = new_dataframe[\"tags\"].apply(lambda x: \" \".join(x))"
   ]
  },
  {
   "cell_type": "code",
   "execution_count": 61,
   "id": "40e5fa71-9282-4cfc-9e5f-2774243bb9c9",
   "metadata": {},
   "outputs": [],
   "source": [
    "new_dataframe.loc[:, \"tags\"] = new_dataframe[\"tags\"].apply(lambda x: x.lower())"
   ]
  },
  {
   "cell_type": "code",
   "execution_count": 22,
   "id": "90d3f735-75db-46e8-9be9-d0fd5ee3ac96",
   "metadata": {},
   "outputs": [],
   "source": [
    "ps = PorterStemmer()"
   ]
  },
  {
   "cell_type": "code",
   "execution_count": 23,
   "id": "2436c215-439e-4ceb-a61f-d9e5c9cda591",
   "metadata": {},
   "outputs": [],
   "source": [
    "def stems(text):\n",
    "    result = []\n",
    "    for i in text.split():\n",
    "        result.append(ps.stem(i))\n",
    "    return \" \".join(result)"
   ]
  },
  {
   "cell_type": "code",
   "execution_count": 63,
   "id": "6a9e4ba4-189b-4e3f-a243-a8aa358ac197",
   "metadata": {},
   "outputs": [],
   "source": [
    "new_dataframe.loc[:, \"tags\"] = new_dataframe[\"tags\"].apply(stems)"
   ]
  },
  {
   "cell_type": "code",
   "execution_count": 25,
   "id": "eb84c72e-8197-4175-8485-ed55b12beda7",
   "metadata": {},
   "outputs": [],
   "source": [
    "cv = CountVectorizer(max_features = 5000, stop_words = \"english\")"
   ]
  },
  {
   "cell_type": "code",
   "execution_count": 26,
   "id": "3b009efc-6ca9-43f7-85d3-6d9eec2a7b46",
   "metadata": {},
   "outputs": [],
   "source": [
    "vector = cv.fit_transform(new_dataframe[\"tags\"]).toarray()"
   ]
  },
  {
   "cell_type": "code",
   "execution_count": 27,
   "id": "e0328ac3-9163-441c-a3a3-a284cac7c0ef",
   "metadata": {},
   "outputs": [],
   "source": [
    "similarity = cosine_similarity(vector)"
   ]
  },
  {
   "cell_type": "code",
   "execution_count": 38,
   "id": "5fe7a70e-9e8c-4f79-8407-d630b3bbcdaa",
   "metadata": {},
   "outputs": [],
   "source": [
    "def recommend_movie(movie):\n",
    "    index = new_dataframe[new_dataframe[\"title\"] == movie].index[0]\n",
    "    distances = sorted(list(enumerate(similarity[index])), reverse = True, key= lambda x: x[1])\n",
    "    for i in distances[1:6]:\n",
    "        print(new_dataframe.iloc[i[0]].title)"
   ]
  },
  {
   "cell_type": "code",
   "execution_count": 65,
   "id": "8a547133-bd68-40d1-8f9d-7a0057c9063a",
   "metadata": {},
   "outputs": [],
   "source": [
    "pickle.dump(new_dataframe, open(\"pickle/movie_list.pkl\", \"wb\"))\n",
    "pickle.dump(similarity, open(\"pickle/similarity.pkl\", \"wb\"))"
   ]
  }
 ],
 "metadata": {
  "kernelspec": {
   "display_name": "Python 3 (ipykernel)",
   "language": "python",
   "name": "python3"
  },
  "language_info": {
   "codemirror_mode": {
    "name": "ipython",
    "version": 3
   },
   "file_extension": ".py",
   "mimetype": "text/x-python",
   "name": "python",
   "nbconvert_exporter": "python",
   "pygments_lexer": "ipython3",
   "version": "3.12.4"
  }
 },
 "nbformat": 4,
 "nbformat_minor": 5
}
